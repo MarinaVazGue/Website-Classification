{
 "cells": [
  {
   "cell_type": "markdown",
   "id": "ad060501-db48-4bea-a6d3-b1d787381465",
   "metadata": {},
   "source": [
    "# __CAS KAGGLE: Website Classification__"
   ]
  },
  {
   "cell_type": "markdown",
   "id": "5a69ad81-aa13-4319-bb90-4ecceb204bed",
   "metadata": {},
   "source": [
    "##### Marina Vázquez Guerrero"
   ]
  },
  {
   "cell_type": "markdown",
   "id": "e3507123-62a6-4f87-b464-6e9899b627c2",
   "metadata": {},
   "source": [
    "###### NIU: 1563735"
   ]
  },
  {
   "cell_type": "code",
   "execution_count": 1,
   "id": "d78a3a17",
   "metadata": {},
   "outputs": [],
   "source": [
    "# impotem les llibreries i els paquets que necessitem\n",
    "import numpy as np\n",
    "import pandas as pd\n",
    "%matplotlib inline\n",
    "import matplotlib.pyplot as plt\n",
    "import seaborn as sns\n",
    "from matplotlib import pyplot as plt\n",
    "from sklearn.metrics import r2_score,accuracy_score\n",
    "from sklearn import linear_model\n",
    "from sklearn.linear_model import LinearRegression\n",
    "from sklearn.preprocessing import LabelEncoder\n",
    "from sklearn.feature_extraction.text import CountVectorizer\n",
    "from sklearn.model_selection import train_test_split\n",
    "from sklearn.linear_model import LogisticRegression\n",
    "\n",
    "import warnings\n",
    "warnings.filterwarnings(\"ignore\")\n",
    "\n",
    "plt.figure(figsize=(10,10))\n",
    "sns.set(style=\"darkgrid\")\n",
    "%matplotlib inline\n",
    "\n",
    "pd.set_option('display.float_format', lambda x: '%.3f' % x)"
   ]
  },
  {
   "cell_type": "code",
   "execution_count": 2,
   "id": "38377f3f",
   "metadata": {},
   "outputs": [
    {
     "ename": "FileNotFoundError",
     "evalue": "[Errno 2] No such file or directory: 'website_classification.csv'",
     "output_type": "error",
     "traceback": [
      "\u001b[1;31m---------------------------------------------------------------------------\u001b[0m",
      "\u001b[1;31mFileNotFoundError\u001b[0m                         Traceback (most recent call last)",
      "\u001b[1;32m<ipython-input-2-b6d11f9d803b>\u001b[0m in \u001b[0;36m<module>\u001b[1;34m\u001b[0m\n\u001b[0;32m      2\u001b[0m \u001b[1;33m\u001b[0m\u001b[0m\n\u001b[0;32m      3\u001b[0m \u001b[1;31m# https://www.kaggle.com/hetulmehta/website-classification\u001b[0m\u001b[1;33m\u001b[0m\u001b[1;33m\u001b[0m\u001b[1;33m\u001b[0m\u001b[0m\n\u001b[1;32m----> 4\u001b[1;33m \u001b[0mdata\u001b[0m \u001b[1;33m=\u001b[0m \u001b[0mpd\u001b[0m\u001b[1;33m.\u001b[0m\u001b[0mread_csv\u001b[0m\u001b[1;33m(\u001b[0m\u001b[1;34m\"website_classification.csv\"\u001b[0m\u001b[1;33m)\u001b[0m\u001b[1;33m\u001b[0m\u001b[1;33m\u001b[0m\u001b[0m\n\u001b[0m\u001b[0;32m      5\u001b[0m \u001b[0mdata\u001b[0m\u001b[1;33m\u001b[0m\u001b[1;33m\u001b[0m\u001b[0m\n",
      "\u001b[1;32m~\\anaconda3\\lib\\site-packages\\pandas\\io\\parsers.py\u001b[0m in \u001b[0;36mread_csv\u001b[1;34m(filepath_or_buffer, sep, delimiter, header, names, index_col, usecols, squeeze, prefix, mangle_dupe_cols, dtype, engine, converters, true_values, false_values, skipinitialspace, skiprows, skipfooter, nrows, na_values, keep_default_na, na_filter, verbose, skip_blank_lines, parse_dates, infer_datetime_format, keep_date_col, date_parser, dayfirst, cache_dates, iterator, chunksize, compression, thousands, decimal, lineterminator, quotechar, quoting, doublequote, escapechar, comment, encoding, dialect, error_bad_lines, warn_bad_lines, delim_whitespace, low_memory, memory_map, float_precision, storage_options)\u001b[0m\n\u001b[0;32m    608\u001b[0m     \u001b[0mkwds\u001b[0m\u001b[1;33m.\u001b[0m\u001b[0mupdate\u001b[0m\u001b[1;33m(\u001b[0m\u001b[0mkwds_defaults\u001b[0m\u001b[1;33m)\u001b[0m\u001b[1;33m\u001b[0m\u001b[1;33m\u001b[0m\u001b[0m\n\u001b[0;32m    609\u001b[0m \u001b[1;33m\u001b[0m\u001b[0m\n\u001b[1;32m--> 610\u001b[1;33m     \u001b[1;32mreturn\u001b[0m \u001b[0m_read\u001b[0m\u001b[1;33m(\u001b[0m\u001b[0mfilepath_or_buffer\u001b[0m\u001b[1;33m,\u001b[0m \u001b[0mkwds\u001b[0m\u001b[1;33m)\u001b[0m\u001b[1;33m\u001b[0m\u001b[1;33m\u001b[0m\u001b[0m\n\u001b[0m\u001b[0;32m    611\u001b[0m \u001b[1;33m\u001b[0m\u001b[0m\n\u001b[0;32m    612\u001b[0m \u001b[1;33m\u001b[0m\u001b[0m\n",
      "\u001b[1;32m~\\anaconda3\\lib\\site-packages\\pandas\\io\\parsers.py\u001b[0m in \u001b[0;36m_read\u001b[1;34m(filepath_or_buffer, kwds)\u001b[0m\n\u001b[0;32m    460\u001b[0m \u001b[1;33m\u001b[0m\u001b[0m\n\u001b[0;32m    461\u001b[0m     \u001b[1;31m# Create the parser.\u001b[0m\u001b[1;33m\u001b[0m\u001b[1;33m\u001b[0m\u001b[1;33m\u001b[0m\u001b[0m\n\u001b[1;32m--> 462\u001b[1;33m     \u001b[0mparser\u001b[0m \u001b[1;33m=\u001b[0m \u001b[0mTextFileReader\u001b[0m\u001b[1;33m(\u001b[0m\u001b[0mfilepath_or_buffer\u001b[0m\u001b[1;33m,\u001b[0m \u001b[1;33m**\u001b[0m\u001b[0mkwds\u001b[0m\u001b[1;33m)\u001b[0m\u001b[1;33m\u001b[0m\u001b[1;33m\u001b[0m\u001b[0m\n\u001b[0m\u001b[0;32m    463\u001b[0m \u001b[1;33m\u001b[0m\u001b[0m\n\u001b[0;32m    464\u001b[0m     \u001b[1;32mif\u001b[0m \u001b[0mchunksize\u001b[0m \u001b[1;32mor\u001b[0m \u001b[0miterator\u001b[0m\u001b[1;33m:\u001b[0m\u001b[1;33m\u001b[0m\u001b[1;33m\u001b[0m\u001b[0m\n",
      "\u001b[1;32m~\\anaconda3\\lib\\site-packages\\pandas\\io\\parsers.py\u001b[0m in \u001b[0;36m__init__\u001b[1;34m(self, f, engine, **kwds)\u001b[0m\n\u001b[0;32m    817\u001b[0m             \u001b[0mself\u001b[0m\u001b[1;33m.\u001b[0m\u001b[0moptions\u001b[0m\u001b[1;33m[\u001b[0m\u001b[1;34m\"has_index_names\"\u001b[0m\u001b[1;33m]\u001b[0m \u001b[1;33m=\u001b[0m \u001b[0mkwds\u001b[0m\u001b[1;33m[\u001b[0m\u001b[1;34m\"has_index_names\"\u001b[0m\u001b[1;33m]\u001b[0m\u001b[1;33m\u001b[0m\u001b[1;33m\u001b[0m\u001b[0m\n\u001b[0;32m    818\u001b[0m \u001b[1;33m\u001b[0m\u001b[0m\n\u001b[1;32m--> 819\u001b[1;33m         \u001b[0mself\u001b[0m\u001b[1;33m.\u001b[0m\u001b[0m_engine\u001b[0m \u001b[1;33m=\u001b[0m \u001b[0mself\u001b[0m\u001b[1;33m.\u001b[0m\u001b[0m_make_engine\u001b[0m\u001b[1;33m(\u001b[0m\u001b[0mself\u001b[0m\u001b[1;33m.\u001b[0m\u001b[0mengine\u001b[0m\u001b[1;33m)\u001b[0m\u001b[1;33m\u001b[0m\u001b[1;33m\u001b[0m\u001b[0m\n\u001b[0m\u001b[0;32m    820\u001b[0m \u001b[1;33m\u001b[0m\u001b[0m\n\u001b[0;32m    821\u001b[0m     \u001b[1;32mdef\u001b[0m \u001b[0mclose\u001b[0m\u001b[1;33m(\u001b[0m\u001b[0mself\u001b[0m\u001b[1;33m)\u001b[0m\u001b[1;33m:\u001b[0m\u001b[1;33m\u001b[0m\u001b[1;33m\u001b[0m\u001b[0m\n",
      "\u001b[1;32m~\\anaconda3\\lib\\site-packages\\pandas\\io\\parsers.py\u001b[0m in \u001b[0;36m_make_engine\u001b[1;34m(self, engine)\u001b[0m\n\u001b[0;32m   1048\u001b[0m             )\n\u001b[0;32m   1049\u001b[0m         \u001b[1;31m# error: Too many arguments for \"ParserBase\"\u001b[0m\u001b[1;33m\u001b[0m\u001b[1;33m\u001b[0m\u001b[1;33m\u001b[0m\u001b[0m\n\u001b[1;32m-> 1050\u001b[1;33m         \u001b[1;32mreturn\u001b[0m \u001b[0mmapping\u001b[0m\u001b[1;33m[\u001b[0m\u001b[0mengine\u001b[0m\u001b[1;33m]\u001b[0m\u001b[1;33m(\u001b[0m\u001b[0mself\u001b[0m\u001b[1;33m.\u001b[0m\u001b[0mf\u001b[0m\u001b[1;33m,\u001b[0m \u001b[1;33m**\u001b[0m\u001b[0mself\u001b[0m\u001b[1;33m.\u001b[0m\u001b[0moptions\u001b[0m\u001b[1;33m)\u001b[0m  \u001b[1;31m# type: ignore[call-arg]\u001b[0m\u001b[1;33m\u001b[0m\u001b[1;33m\u001b[0m\u001b[0m\n\u001b[0m\u001b[0;32m   1051\u001b[0m \u001b[1;33m\u001b[0m\u001b[0m\n\u001b[0;32m   1052\u001b[0m     \u001b[1;32mdef\u001b[0m \u001b[0m_failover_to_python\u001b[0m\u001b[1;33m(\u001b[0m\u001b[0mself\u001b[0m\u001b[1;33m)\u001b[0m\u001b[1;33m:\u001b[0m\u001b[1;33m\u001b[0m\u001b[1;33m\u001b[0m\u001b[0m\n",
      "\u001b[1;32m~\\anaconda3\\lib\\site-packages\\pandas\\io\\parsers.py\u001b[0m in \u001b[0;36m__init__\u001b[1;34m(self, src, **kwds)\u001b[0m\n\u001b[0;32m   1865\u001b[0m \u001b[1;33m\u001b[0m\u001b[0m\n\u001b[0;32m   1866\u001b[0m         \u001b[1;31m# open handles\u001b[0m\u001b[1;33m\u001b[0m\u001b[1;33m\u001b[0m\u001b[1;33m\u001b[0m\u001b[0m\n\u001b[1;32m-> 1867\u001b[1;33m         \u001b[0mself\u001b[0m\u001b[1;33m.\u001b[0m\u001b[0m_open_handles\u001b[0m\u001b[1;33m(\u001b[0m\u001b[0msrc\u001b[0m\u001b[1;33m,\u001b[0m \u001b[0mkwds\u001b[0m\u001b[1;33m)\u001b[0m\u001b[1;33m\u001b[0m\u001b[1;33m\u001b[0m\u001b[0m\n\u001b[0m\u001b[0;32m   1868\u001b[0m         \u001b[1;32massert\u001b[0m \u001b[0mself\u001b[0m\u001b[1;33m.\u001b[0m\u001b[0mhandles\u001b[0m \u001b[1;32mis\u001b[0m \u001b[1;32mnot\u001b[0m \u001b[1;32mNone\u001b[0m\u001b[1;33m\u001b[0m\u001b[1;33m\u001b[0m\u001b[0m\n\u001b[0;32m   1869\u001b[0m         \u001b[1;32mfor\u001b[0m \u001b[0mkey\u001b[0m \u001b[1;32min\u001b[0m \u001b[1;33m(\u001b[0m\u001b[1;34m\"storage_options\"\u001b[0m\u001b[1;33m,\u001b[0m \u001b[1;34m\"encoding\"\u001b[0m\u001b[1;33m,\u001b[0m \u001b[1;34m\"memory_map\"\u001b[0m\u001b[1;33m,\u001b[0m \u001b[1;34m\"compression\"\u001b[0m\u001b[1;33m)\u001b[0m\u001b[1;33m:\u001b[0m\u001b[1;33m\u001b[0m\u001b[1;33m\u001b[0m\u001b[0m\n",
      "\u001b[1;32m~\\anaconda3\\lib\\site-packages\\pandas\\io\\parsers.py\u001b[0m in \u001b[0;36m_open_handles\u001b[1;34m(self, src, kwds)\u001b[0m\n\u001b[0;32m   1360\u001b[0m         \u001b[0mLet\u001b[0m \u001b[0mthe\u001b[0m \u001b[0mreaders\u001b[0m \u001b[0mopen\u001b[0m \u001b[0mIOHanldes\u001b[0m \u001b[0mafter\u001b[0m \u001b[0mthey\u001b[0m \u001b[0mare\u001b[0m \u001b[0mdone\u001b[0m \u001b[1;32mwith\u001b[0m \u001b[0mtheir\u001b[0m \u001b[0mpotential\u001b[0m \u001b[0mraises\u001b[0m\u001b[1;33m.\u001b[0m\u001b[1;33m\u001b[0m\u001b[1;33m\u001b[0m\u001b[0m\n\u001b[0;32m   1361\u001b[0m         \"\"\"\n\u001b[1;32m-> 1362\u001b[1;33m         self.handles = get_handle(\n\u001b[0m\u001b[0;32m   1363\u001b[0m             \u001b[0msrc\u001b[0m\u001b[1;33m,\u001b[0m\u001b[1;33m\u001b[0m\u001b[1;33m\u001b[0m\u001b[0m\n\u001b[0;32m   1364\u001b[0m             \u001b[1;34m\"r\"\u001b[0m\u001b[1;33m,\u001b[0m\u001b[1;33m\u001b[0m\u001b[1;33m\u001b[0m\u001b[0m\n",
      "\u001b[1;32m~\\anaconda3\\lib\\site-packages\\pandas\\io\\common.py\u001b[0m in \u001b[0;36mget_handle\u001b[1;34m(path_or_buf, mode, encoding, compression, memory_map, is_text, errors, storage_options)\u001b[0m\n\u001b[0;32m    640\u001b[0m                 \u001b[0merrors\u001b[0m \u001b[1;33m=\u001b[0m \u001b[1;34m\"replace\"\u001b[0m\u001b[1;33m\u001b[0m\u001b[1;33m\u001b[0m\u001b[0m\n\u001b[0;32m    641\u001b[0m             \u001b[1;31m# Encoding\u001b[0m\u001b[1;33m\u001b[0m\u001b[1;33m\u001b[0m\u001b[1;33m\u001b[0m\u001b[0m\n\u001b[1;32m--> 642\u001b[1;33m             handle = open(\n\u001b[0m\u001b[0;32m    643\u001b[0m                 \u001b[0mhandle\u001b[0m\u001b[1;33m,\u001b[0m\u001b[1;33m\u001b[0m\u001b[1;33m\u001b[0m\u001b[0m\n\u001b[0;32m    644\u001b[0m                 \u001b[0mioargs\u001b[0m\u001b[1;33m.\u001b[0m\u001b[0mmode\u001b[0m\u001b[1;33m,\u001b[0m\u001b[1;33m\u001b[0m\u001b[1;33m\u001b[0m\u001b[0m\n",
      "\u001b[1;31mFileNotFoundError\u001b[0m: [Errno 2] No such file or directory: 'website_classification.csv'"
     ]
    }
   ],
   "source": [
    "# llegim la base de dades\n",
    "\n",
    "# https://www.kaggle.com/hetulmehta/website-classification\n",
    "data = pd.read_csv(\"website_classification.csv\")\n",
    "data"
   ]
  },
  {
   "cell_type": "markdown",
   "id": "a6ef4dcb-bd4b-4f72-becf-82ee65eb5185",
   "metadata": {},
   "source": [
    "Visualització de la base de dades"
   ]
  },
  {
   "cell_type": "code",
   "execution_count": null,
   "id": "49482841-a8d2-4ae5-ae51-556097bc97d1",
   "metadata": {},
   "outputs": [],
   "source": [
    "# Fem una visualització de les primeres files per a veure de forma clara quina forma té la base de dades\n",
    "data.head()"
   ]
  },
  {
   "cell_type": "code",
   "execution_count": null,
   "id": "0b69daed-6fbd-4581-b5e2-c05c79169356",
   "metadata": {},
   "outputs": [],
   "source": [
    "# Veiem que és insignificant l'atribut \"Unnamed: 0\" ja que només és l'índex de la fila del data\n",
    "data.drop([\"Unnamed: 0\"], axis=1, inplace=True)\n",
    "\n",
    "#També, el url de la web no ens aporta informació\n",
    "data.drop([\"website_url\"], axis=1, inplace=True)"
   ]
  },
  {
   "cell_type": "code",
   "execution_count": null,
   "id": "510b1a31",
   "metadata": {},
   "outputs": [],
   "source": [
    "# Comprovem si hi ha NAN's en la nostra base de dades\n",
    "data.isnull().sum()\n",
    "# Veiem que no hi ha cap característica amb NAN's"
   ]
  },
  {
   "cell_type": "code",
   "execution_count": null,
   "id": "fbfc4a0d-ca4e-4274-b775-96c72812a34e",
   "metadata": {},
   "outputs": [],
   "source": [
    "#Mirem de quins tipus són els atibuts que tenim\n",
    "display(data.dtypes)\n",
    "# Veiem que tots els atributs no són de tipus int, per tant, hem de transformar-los a ints"
   ]
  },
  {
   "cell_type": "code",
   "execution_count": null,
   "id": "c1a1e30e-e6fb-4516-8c8f-2f51196856b7",
   "metadata": {},
   "outputs": [],
   "source": [
    "# creem una variable per a codificar les categories de cada web amb números enlloc d'etiquetes\n",
    "le = LabelEncoder()\n",
    "data[\"target_category\"] = le.fit(data[\"Category\"]).transform(data[\"Category\"])\n",
    "data\n",
    "# Ara tenim un atribut més on les categories estan expressades amb números i no objectes"
   ]
  },
  {
   "cell_type": "code",
   "execution_count": null,
   "id": "8c94b1b4-37bd-4c92-a5d5-13e3784ec5b4",
   "metadata": {},
   "outputs": [],
   "source": [
    "#Mirem de quins tipus són els atibuts que tenim ara\n",
    "display(data.dtypes)\n",
    "# Veiem que tots els atributs no són de tipus int, per tant, hem de transformar-los a ints"
   ]
  },
  {
   "cell_type": "code",
   "execution_count": null,
   "id": "f2a21ab5-aae1-4a6c-a663-4ce881e3eb50",
   "metadata": {},
   "outputs": [],
   "source": [
    "# Per a saber quines són les etiquetes reals dels números codificats anteriorment, podem fer la inversa\n",
    "le.inverse_transform(data[\"target_category\"])"
   ]
  },
  {
   "cell_type": "code",
   "execution_count": null,
   "id": "5a77cc41-d463-45f1-91d2-d01883140667",
   "metadata": {},
   "outputs": [],
   "source": [
    "# convertim en string la columna de cleaned_website_text\n",
    "data[\"cleaned_website_text\"] = data[\"cleaned_website_text\"].astype(str)"
   ]
  },
  {
   "cell_type": "code",
   "execution_count": null,
   "id": "1f256320-bc36-4ba0-8fa7-67f712d220a3",
   "metadata": {},
   "outputs": [],
   "source": [
    "# volem poder tractar amb les descripcions per això, utilitzem el CountVectorizer\n",
    "cv = CountVectorizer(analyzer = \"word\", stop_words = \"english\")\n",
    "cv.fit(data[\"cleaned_website_text\"])"
   ]
  },
  {
   "cell_type": "code",
   "execution_count": null,
   "id": "5897678a-2a05-4b5f-936a-99412589d367",
   "metadata": {},
   "outputs": [],
   "source": [
    "data['target_category'].value_counts()"
   ]
  },
  {
   "cell_type": "code",
   "execution_count": null,
   "id": "8849b66e-8728-40da-8de6-180a24c44a98",
   "metadata": {},
   "outputs": [],
   "source": [
    "data['Category'].value_counts()"
   ]
  },
  {
   "cell_type": "code",
   "execution_count": null,
   "id": "4a9c1a05-1f3b-4a73-b439-a1672a13867f",
   "metadata": {},
   "outputs": [],
   "source": [
    "# Fem un diccionari de manera que ens faciliti entendre les categories numèriques\n",
    "dic_category = {'Adult' : 0, 'Business/Corporate' : 1, 'Computers and Technology' : 2, 'E-Commerce' : 3 , 'Education' : 4, 'Food' : 5, 'Forums' : 6, 'Games' : 7,\n",
    "      'Health and Fitness' : 8, 'Law and Government' : 9, 'News' : 10, 'Photography' : 11, 'Social Networking and Messaging' : 12, 'Sports' : 13, 'Streaming Services' :15}"
   ]
  },
  {
   "cell_type": "markdown",
   "id": "1cd60b15-a152-4fa6-8e0e-bb7987233393",
   "metadata": {},
   "source": [
    "La part X que hem d'utilitzar és el data[\"cleaned_website_text\"].\n",
    "Les prediccions són les categories dels diferents links"
   ]
  },
  {
   "cell_type": "code",
   "execution_count": null,
   "id": "6e7efad1-2df3-483c-88da-e9d4719239aa",
   "metadata": {},
   "outputs": [],
   "source": [
    "# Ens quedem amb el que ens interessa; netejem la base de dades\n",
    "data.drop([\"Category\"], axis=1, inplace=True)"
   ]
  },
  {
   "cell_type": "markdown",
   "id": "f82e5cab-d017-4708-a15f-688b2f3ac10b",
   "metadata": {},
   "source": [
    "Visualitzem la base de dades amb la qual ara treballarem"
   ]
  },
  {
   "cell_type": "code",
   "execution_count": null,
   "id": "f401e7de-ba2f-41cf-98dd-f41d949ec007",
   "metadata": {},
   "outputs": [],
   "source": [
    "data"
   ]
  },
  {
   "cell_type": "markdown",
   "id": "233bb970-b2de-463a-a23a-c9b0fbeede2d",
   "metadata": {},
   "source": [
    "### Visualització dels atributs a predir"
   ]
  },
  {
   "cell_type": "code",
   "execution_count": null,
   "id": "89084043-01fe-4f13-9b1f-d5f8896e2e13",
   "metadata": {},
   "outputs": [],
   "source": [
    "# historgrama del target_category per a veure com estan organitzats\n",
    "\n",
    "p=sns.histplot(data=data, x=\"target_category\", kde=False, color=\"orange\")\n",
    "\n",
    "plt.suptitle(\"categories count of website's links\",\n",
    "             fontsize = 'x-large', fontweight = 'bold' )\n",
    "p.set_xlabel(\"Categories\")\n",
    "p.set_ylabel(\"Count\")\n",
    "\n",
    "#plt.savefig(\"hist_target_A.png\", dpi = 300, bbox_inches = 'tight')"
   ]
  }
 ],
 "metadata": {
  "kernelspec": {
   "display_name": "Python 3",
   "language": "python",
   "name": "python3"
  },
  "language_info": {
   "codemirror_mode": {
    "name": "ipython",
    "version": 3
   },
   "file_extension": ".py",
   "mimetype": "text/x-python",
   "name": "python",
   "nbconvert_exporter": "python",
   "pygments_lexer": "ipython3",
   "version": "3.8.8"
  }
 },
 "nbformat": 4,
 "nbformat_minor": 5
}
