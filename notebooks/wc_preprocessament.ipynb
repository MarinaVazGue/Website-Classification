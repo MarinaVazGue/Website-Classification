{
 "cells": [
  {
   "cell_type": "markdown",
   "id": "ad060501-db48-4bea-a6d3-b1d787381465",
   "metadata": {},
   "source": [
    "# __CAS KAGGLE: Website Classification__"
   ]
  },
  {
   "cell_type": "markdown",
   "id": "5a69ad81-aa13-4319-bb90-4ecceb204bed",
   "metadata": {},
   "source": [
    "##### Marina Vázquez Guerrero"
   ]
  },
  {
   "cell_type": "markdown",
   "id": "e3507123-62a6-4f87-b464-6e9899b627c2",
   "metadata": {},
   "source": [
    "###### NIU: 1563735"
   ]
  },
  {
   "cell_type": "code",
   "execution_count": 2,
   "id": "d78a3a17",
   "metadata": {},
   "outputs": [],
   "source": [
    "# impotem les llibreries i els paquets que necessitem\n",
    "import numpy as np\n",
    "import pandas as pd\n",
    "%matplotlib inline\n",
    "import matplotlib.pyplot as plt\n",
    "import seaborn as sns\n",
    "from matplotlib import pyplot as plt\n",
    "from sklearn.metrics import r2_score,accuracy_score\n",
    "from sklearn import linear_model\n",
    "from sklearn.linear_model import LinearRegression\n",
    "from sklearn.preprocessing import LabelEncoder\n",
    "from sklearn.feature_extraction.text import CountVectorizer\n",
    "from sklearn.model_selection import train_test_split\n",
    "from sklearn.linear_model import LogisticRegression\n",
    "\n",
    "import warnings\n",
    "warnings.filterwarnings(\"ignore\")\n",
    "\n",
    "plt.figure(figsize=(10,10))\n",
    "sns.set(style=\"darkgrid\")\n",
    "%matplotlib inline\n",
    "\n",
    "pd.set_option('display.float_format', lambda x: '%.3f' % x)"
   ]
  },
  {
   "cell_type": "code",
   "execution_count": 3,
   "id": "38377f3f",
   "metadata": {},
   "outputs": [
    {
     "data": {
      "text/html": [
       "<div>\n",
       "<style scoped>\n",
       "    .dataframe tbody tr th:only-of-type {\n",
       "        vertical-align: middle;\n",
       "    }\n",
       "\n",
       "    .dataframe tbody tr th {\n",
       "        vertical-align: top;\n",
       "    }\n",
       "\n",
       "    .dataframe thead th {\n",
       "        text-align: right;\n",
       "    }\n",
       "</style>\n",
       "<table border=\"1\" class=\"dataframe\">\n",
       "  <thead>\n",
       "    <tr style=\"text-align: right;\">\n",
       "      <th></th>\n",
       "      <th>Unnamed: 0</th>\n",
       "      <th>website_url</th>\n",
       "      <th>cleaned_website_text</th>\n",
       "      <th>Category</th>\n",
       "    </tr>\n",
       "  </thead>\n",
       "  <tbody>\n",
       "    <tr>\n",
       "      <th>0</th>\n",
       "      <td>0</td>\n",
       "      <td>https://www.booking.com/index.html?aid=1743217</td>\n",
       "      <td>official site good hotel accommodation big sav...</td>\n",
       "      <td>Travel</td>\n",
       "    </tr>\n",
       "    <tr>\n",
       "      <th>1</th>\n",
       "      <td>1</td>\n",
       "      <td>https://travelsites.com/expedia/</td>\n",
       "      <td>expedia hotel book sites like use vacation wor...</td>\n",
       "      <td>Travel</td>\n",
       "    </tr>\n",
       "    <tr>\n",
       "      <th>2</th>\n",
       "      <td>2</td>\n",
       "      <td>https://travelsites.com/tripadvisor/</td>\n",
       "      <td>tripadvisor hotel book sites like previously d...</td>\n",
       "      <td>Travel</td>\n",
       "    </tr>\n",
       "    <tr>\n",
       "      <th>3</th>\n",
       "      <td>3</td>\n",
       "      <td>https://www.momondo.in/?ispredir=true</td>\n",
       "      <td>cheap flights search compare flights momondo f...</td>\n",
       "      <td>Travel</td>\n",
       "    </tr>\n",
       "    <tr>\n",
       "      <th>4</th>\n",
       "      <td>4</td>\n",
       "      <td>https://www.ebookers.com/?AFFCID=EBOOKERS-UK.n...</td>\n",
       "      <td>bot create free account create free account si...</td>\n",
       "      <td>Travel</td>\n",
       "    </tr>\n",
       "    <tr>\n",
       "      <th>...</th>\n",
       "      <td>...</td>\n",
       "      <td>...</td>\n",
       "      <td>...</td>\n",
       "      <td>...</td>\n",
       "    </tr>\n",
       "    <tr>\n",
       "      <th>1403</th>\n",
       "      <td>1403</td>\n",
       "      <td>http://www.oldwomen.org/</td>\n",
       "      <td>old nude women porn mature granny sex horny ol...</td>\n",
       "      <td>Adult</td>\n",
       "    </tr>\n",
       "    <tr>\n",
       "      <th>1404</th>\n",
       "      <td>1404</td>\n",
       "      <td>http://www.webcamslave.com</td>\n",
       "      <td>bdsm cams bdsm chat bondage cams free bdsm vid...</td>\n",
       "      <td>Adult</td>\n",
       "    </tr>\n",
       "    <tr>\n",
       "      <th>1405</th>\n",
       "      <td>1405</td>\n",
       "      <td>http://www.buyeuroporn.com/</td>\n",
       "      <td>porno dvd online european porn dvd cheap adult...</td>\n",
       "      <td>Adult</td>\n",
       "    </tr>\n",
       "    <tr>\n",
       "      <th>1406</th>\n",
       "      <td>1406</td>\n",
       "      <td>http://www.analdreamhouse.com/30/03/agecheck/i...</td>\n",
       "      <td>anal dream house anal dream house anal dream h...</td>\n",
       "      <td>Adult</td>\n",
       "    </tr>\n",
       "    <tr>\n",
       "      <th>1407</th>\n",
       "      <td>1407</td>\n",
       "      <td>http://www.world-sex-news.com/</td>\n",
       "      <td>world sex news daily sex news adult news eroti...</td>\n",
       "      <td>Adult</td>\n",
       "    </tr>\n",
       "  </tbody>\n",
       "</table>\n",
       "<p>1408 rows × 4 columns</p>\n",
       "</div>"
      ],
      "text/plain": [
       "      Unnamed: 0                                        website_url  \\\n",
       "0              0     https://www.booking.com/index.html?aid=1743217   \n",
       "1              1                   https://travelsites.com/expedia/   \n",
       "2              2               https://travelsites.com/tripadvisor/   \n",
       "3              3              https://www.momondo.in/?ispredir=true   \n",
       "4              4  https://www.ebookers.com/?AFFCID=EBOOKERS-UK.n...   \n",
       "...          ...                                                ...   \n",
       "1403        1403                           http://www.oldwomen.org/   \n",
       "1404        1404                         http://www.webcamslave.com   \n",
       "1405        1405                        http://www.buyeuroporn.com/   \n",
       "1406        1406  http://www.analdreamhouse.com/30/03/agecheck/i...   \n",
       "1407        1407                     http://www.world-sex-news.com/   \n",
       "\n",
       "                                   cleaned_website_text Category  \n",
       "0     official site good hotel accommodation big sav...   Travel  \n",
       "1     expedia hotel book sites like use vacation wor...   Travel  \n",
       "2     tripadvisor hotel book sites like previously d...   Travel  \n",
       "3     cheap flights search compare flights momondo f...   Travel  \n",
       "4     bot create free account create free account si...   Travel  \n",
       "...                                                 ...      ...  \n",
       "1403  old nude women porn mature granny sex horny ol...    Adult  \n",
       "1404  bdsm cams bdsm chat bondage cams free bdsm vid...    Adult  \n",
       "1405  porno dvd online european porn dvd cheap adult...    Adult  \n",
       "1406  anal dream house anal dream house anal dream h...    Adult  \n",
       "1407  world sex news daily sex news adult news eroti...    Adult  \n",
       "\n",
       "[1408 rows x 4 columns]"
      ]
     },
     "execution_count": 3,
     "metadata": {},
     "output_type": "execute_result"
    }
   ],
   "source": [
    "# llegim la base de dades\n",
    "\n",
    "# https://www.kaggle.com/hetulmehta/website-classification\n",
    "data = pd.read_csv(\"website_classification.csv\")\n",
    "data"
   ]
  },
  {
   "cell_type": "code",
   "execution_count": 4,
   "id": "20b4dc34-2125-4c34-aa25-0bd0ca37be4f",
   "metadata": {},
   "outputs": [
    {
     "data": {
      "text/plain": [
       "(1408, 4)"
      ]
     },
     "execution_count": 4,
     "metadata": {},
     "output_type": "execute_result"
    }
   ],
   "source": [
    "data.shape"
   ]
  },
  {
   "cell_type": "markdown",
   "id": "a6ef4dcb-bd4b-4f72-becf-82ee65eb5185",
   "metadata": {},
   "source": [
    "Visualització de la base de dades"
   ]
  },
  {
   "cell_type": "code",
   "execution_count": 4,
   "id": "49482841-a8d2-4ae5-ae51-556097bc97d1",
   "metadata": {},
   "outputs": [
    {
     "data": {
      "text/html": [
       "<div>\n",
       "<style scoped>\n",
       "    .dataframe tbody tr th:only-of-type {\n",
       "        vertical-align: middle;\n",
       "    }\n",
       "\n",
       "    .dataframe tbody tr th {\n",
       "        vertical-align: top;\n",
       "    }\n",
       "\n",
       "    .dataframe thead th {\n",
       "        text-align: right;\n",
       "    }\n",
       "</style>\n",
       "<table border=\"1\" class=\"dataframe\">\n",
       "  <thead>\n",
       "    <tr style=\"text-align: right;\">\n",
       "      <th></th>\n",
       "      <th>Unnamed: 0</th>\n",
       "      <th>website_url</th>\n",
       "      <th>cleaned_website_text</th>\n",
       "      <th>Category</th>\n",
       "    </tr>\n",
       "  </thead>\n",
       "  <tbody>\n",
       "    <tr>\n",
       "      <th>0</th>\n",
       "      <td>0</td>\n",
       "      <td>https://www.booking.com/index.html?aid=1743217</td>\n",
       "      <td>official site good hotel accommodation big sav...</td>\n",
       "      <td>Travel</td>\n",
       "    </tr>\n",
       "    <tr>\n",
       "      <th>1</th>\n",
       "      <td>1</td>\n",
       "      <td>https://travelsites.com/expedia/</td>\n",
       "      <td>expedia hotel book sites like use vacation wor...</td>\n",
       "      <td>Travel</td>\n",
       "    </tr>\n",
       "    <tr>\n",
       "      <th>2</th>\n",
       "      <td>2</td>\n",
       "      <td>https://travelsites.com/tripadvisor/</td>\n",
       "      <td>tripadvisor hotel book sites like previously d...</td>\n",
       "      <td>Travel</td>\n",
       "    </tr>\n",
       "    <tr>\n",
       "      <th>3</th>\n",
       "      <td>3</td>\n",
       "      <td>https://www.momondo.in/?ispredir=true</td>\n",
       "      <td>cheap flights search compare flights momondo f...</td>\n",
       "      <td>Travel</td>\n",
       "    </tr>\n",
       "    <tr>\n",
       "      <th>4</th>\n",
       "      <td>4</td>\n",
       "      <td>https://www.ebookers.com/?AFFCID=EBOOKERS-UK.n...</td>\n",
       "      <td>bot create free account create free account si...</td>\n",
       "      <td>Travel</td>\n",
       "    </tr>\n",
       "  </tbody>\n",
       "</table>\n",
       "</div>"
      ],
      "text/plain": [
       "   Unnamed: 0                                        website_url  \\\n",
       "0           0     https://www.booking.com/index.html?aid=1743217   \n",
       "1           1                   https://travelsites.com/expedia/   \n",
       "2           2               https://travelsites.com/tripadvisor/   \n",
       "3           3              https://www.momondo.in/?ispredir=true   \n",
       "4           4  https://www.ebookers.com/?AFFCID=EBOOKERS-UK.n...   \n",
       "\n",
       "                                cleaned_website_text Category  \n",
       "0  official site good hotel accommodation big sav...   Travel  \n",
       "1  expedia hotel book sites like use vacation wor...   Travel  \n",
       "2  tripadvisor hotel book sites like previously d...   Travel  \n",
       "3  cheap flights search compare flights momondo f...   Travel  \n",
       "4  bot create free account create free account si...   Travel  "
      ]
     },
     "execution_count": 4,
     "metadata": {},
     "output_type": "execute_result"
    }
   ],
   "source": [
    "# Fem una visualització de les primeres files per a veure de forma clara quina forma té la base de dades\n",
    "data.head()"
   ]
  },
  {
   "cell_type": "code",
   "execution_count": 5,
   "id": "0b69daed-6fbd-4581-b5e2-c05c79169356",
   "metadata": {},
   "outputs": [],
   "source": [
    "# Veiem que és insignificant l'atribut \"Unnamed: 0\" ja que només és l'índex de la fila del data\n",
    "data.drop([\"Unnamed: 0\"], axis=1, inplace=True)\n",
    "\n",
    "#També, el url de la web no ens aporta informació\n",
    "data.drop([\"website_url\"], axis=1, inplace=True)"
   ]
  },
  {
   "cell_type": "code",
   "execution_count": 6,
   "id": "510b1a31",
   "metadata": {},
   "outputs": [
    {
     "data": {
      "text/plain": [
       "cleaned_website_text    0\n",
       "Category                0\n",
       "dtype: int64"
      ]
     },
     "execution_count": 6,
     "metadata": {},
     "output_type": "execute_result"
    }
   ],
   "source": [
    "# Comprovem si hi ha NAN's en la nostra base de dades\n",
    "data.isnull().sum()\n",
    "# Veiem que no hi ha cap característica amb NAN's"
   ]
  },
  {
   "cell_type": "code",
   "execution_count": 7,
   "id": "fbfc4a0d-ca4e-4274-b775-96c72812a34e",
   "metadata": {},
   "outputs": [
    {
     "data": {
      "text/plain": [
       "cleaned_website_text    object\n",
       "Category                object\n",
       "dtype: object"
      ]
     },
     "metadata": {},
     "output_type": "display_data"
    }
   ],
   "source": [
    "#Mirem de quins tipus són els atibuts que tenim\n",
    "display(data.dtypes)\n",
    "# Veiem que tots els atributs no són de tipus int, per tant, hem de transformar-los a ints"
   ]
  },
  {
   "cell_type": "code",
   "execution_count": 8,
   "id": "c1a1e30e-e6fb-4516-8c8f-2f51196856b7",
   "metadata": {},
   "outputs": [
    {
     "data": {
      "text/html": [
       "<div>\n",
       "<style scoped>\n",
       "    .dataframe tbody tr th:only-of-type {\n",
       "        vertical-align: middle;\n",
       "    }\n",
       "\n",
       "    .dataframe tbody tr th {\n",
       "        vertical-align: top;\n",
       "    }\n",
       "\n",
       "    .dataframe thead th {\n",
       "        text-align: right;\n",
       "    }\n",
       "</style>\n",
       "<table border=\"1\" class=\"dataframe\">\n",
       "  <thead>\n",
       "    <tr style=\"text-align: right;\">\n",
       "      <th></th>\n",
       "      <th>cleaned_website_text</th>\n",
       "      <th>Category</th>\n",
       "      <th>target_category</th>\n",
       "    </tr>\n",
       "  </thead>\n",
       "  <tbody>\n",
       "    <tr>\n",
       "      <th>0</th>\n",
       "      <td>official site good hotel accommodation big sav...</td>\n",
       "      <td>Travel</td>\n",
       "      <td>15</td>\n",
       "    </tr>\n",
       "    <tr>\n",
       "      <th>1</th>\n",
       "      <td>expedia hotel book sites like use vacation wor...</td>\n",
       "      <td>Travel</td>\n",
       "      <td>15</td>\n",
       "    </tr>\n",
       "    <tr>\n",
       "      <th>2</th>\n",
       "      <td>tripadvisor hotel book sites like previously d...</td>\n",
       "      <td>Travel</td>\n",
       "      <td>15</td>\n",
       "    </tr>\n",
       "    <tr>\n",
       "      <th>3</th>\n",
       "      <td>cheap flights search compare flights momondo f...</td>\n",
       "      <td>Travel</td>\n",
       "      <td>15</td>\n",
       "    </tr>\n",
       "    <tr>\n",
       "      <th>4</th>\n",
       "      <td>bot create free account create free account si...</td>\n",
       "      <td>Travel</td>\n",
       "      <td>15</td>\n",
       "    </tr>\n",
       "    <tr>\n",
       "      <th>...</th>\n",
       "      <td>...</td>\n",
       "      <td>...</td>\n",
       "      <td>...</td>\n",
       "    </tr>\n",
       "    <tr>\n",
       "      <th>1403</th>\n",
       "      <td>old nude women porn mature granny sex horny ol...</td>\n",
       "      <td>Adult</td>\n",
       "      <td>0</td>\n",
       "    </tr>\n",
       "    <tr>\n",
       "      <th>1404</th>\n",
       "      <td>bdsm cams bdsm chat bondage cams free bdsm vid...</td>\n",
       "      <td>Adult</td>\n",
       "      <td>0</td>\n",
       "    </tr>\n",
       "    <tr>\n",
       "      <th>1405</th>\n",
       "      <td>porno dvd online european porn dvd cheap adult...</td>\n",
       "      <td>Adult</td>\n",
       "      <td>0</td>\n",
       "    </tr>\n",
       "    <tr>\n",
       "      <th>1406</th>\n",
       "      <td>anal dream house anal dream house anal dream h...</td>\n",
       "      <td>Adult</td>\n",
       "      <td>0</td>\n",
       "    </tr>\n",
       "    <tr>\n",
       "      <th>1407</th>\n",
       "      <td>world sex news daily sex news adult news eroti...</td>\n",
       "      <td>Adult</td>\n",
       "      <td>0</td>\n",
       "    </tr>\n",
       "  </tbody>\n",
       "</table>\n",
       "<p>1408 rows × 3 columns</p>\n",
       "</div>"
      ],
      "text/plain": [
       "                                   cleaned_website_text Category  \\\n",
       "0     official site good hotel accommodation big sav...   Travel   \n",
       "1     expedia hotel book sites like use vacation wor...   Travel   \n",
       "2     tripadvisor hotel book sites like previously d...   Travel   \n",
       "3     cheap flights search compare flights momondo f...   Travel   \n",
       "4     bot create free account create free account si...   Travel   \n",
       "...                                                 ...      ...   \n",
       "1403  old nude women porn mature granny sex horny ol...    Adult   \n",
       "1404  bdsm cams bdsm chat bondage cams free bdsm vid...    Adult   \n",
       "1405  porno dvd online european porn dvd cheap adult...    Adult   \n",
       "1406  anal dream house anal dream house anal dream h...    Adult   \n",
       "1407  world sex news daily sex news adult news eroti...    Adult   \n",
       "\n",
       "      target_category  \n",
       "0                  15  \n",
       "1                  15  \n",
       "2                  15  \n",
       "3                  15  \n",
       "4                  15  \n",
       "...               ...  \n",
       "1403                0  \n",
       "1404                0  \n",
       "1405                0  \n",
       "1406                0  \n",
       "1407                0  \n",
       "\n",
       "[1408 rows x 3 columns]"
      ]
     },
     "execution_count": 8,
     "metadata": {},
     "output_type": "execute_result"
    }
   ],
   "source": [
    "# creem una variable per a codificar les categories de cada web amb números enlloc d'etiquetes\n",
    "le = LabelEncoder()\n",
    "data[\"target_category\"] = le.fit(data[\"Category\"]).transform(data[\"Category\"])\n",
    "data\n",
    "# Ara tenim un atribut més on les categories estan expressades amb números i no objectes"
   ]
  },
  {
   "cell_type": "code",
   "execution_count": 12,
   "id": "8c94b1b4-37bd-4c92-a5d5-13e3784ec5b4",
   "metadata": {},
   "outputs": [
    {
     "data": {
      "text/plain": [
       "website_url             object\n",
       "cleaned_website_text    object\n",
       "Category                object\n",
       "target_category          int32\n",
       "dtype: object"
      ]
     },
     "metadata": {},
     "output_type": "display_data"
    }
   ],
   "source": [
    "#Mirem de quins tipus són els atibuts que tenim ara\n",
    "display(data.dtypes)\n",
    "# Veiem que tots els atributs no són de tipus int, per tant, hem de transformar-los a ints"
   ]
  },
  {
   "cell_type": "code",
   "execution_count": 6,
   "id": "f2a21ab5-aae1-4a6c-a663-4ce881e3eb50",
   "metadata": {},
   "outputs": [
    {
     "data": {
      "text/plain": [
       "array(['Travel', 'Travel', 'Travel', ..., 'Adult', 'Adult', 'Adult'],\n",
       "      dtype=object)"
      ]
     },
     "execution_count": 6,
     "metadata": {},
     "output_type": "execute_result"
    }
   ],
   "source": [
    "# Per a saber quines són les etiquetes reals dels números codificats anteriorment, podem fer la inversa\n",
    "le.inverse_transform(data[\"target_category\"])"
   ]
  },
  {
   "cell_type": "code",
   "execution_count": 9,
   "id": "5a77cc41-d463-45f1-91d2-d01883140667",
   "metadata": {},
   "outputs": [],
   "source": [
    "# convertim en string la columna de cleaned_website_text\n",
    "data[\"cleaned_website_text\"] = data[\"cleaned_website_text\"].astype(str)"
   ]
  },
  {
   "cell_type": "code",
   "execution_count": 12,
   "id": "1f256320-bc36-4ba0-8fa7-67f712d220a3",
   "metadata": {},
   "outputs": [
    {
     "data": {
      "text/plain": [
       "CountVectorizer(stop_words='english')"
      ]
     },
     "execution_count": 12,
     "metadata": {},
     "output_type": "execute_result"
    }
   ],
   "source": [
    "# volem poder tractar amb les descripcions per això, utilitzem el CountVectorizer\n",
    "cv = CountVectorizer(analyzer = \"word\", stop_words = \"english\")\n",
    "cv.fit(data[\"cleaned_website_text\"])"
   ]
  },
  {
   "cell_type": "code",
   "execution_count": 13,
   "id": "5897678a-2a05-4b5f-936a-99412589d367",
   "metadata": {},
   "outputs": [
    {
     "data": {
      "text/plain": [
       "4     114\n",
       "1     109\n",
       "15    107\n",
       "14    105\n",
       "13    104\n",
       "3     102\n",
       "7      98\n",
       "8      96\n",
       "10     96\n",
       "2      93\n",
       "11     93\n",
       "5      92\n",
       "9      84\n",
       "12     83\n",
       "0      16\n",
       "6      16\n",
       "Name: target_category, dtype: int64"
      ]
     },
     "execution_count": 13,
     "metadata": {},
     "output_type": "execute_result"
    }
   ],
   "source": [
    "data['target_category'].value_counts()"
   ]
  },
  {
   "cell_type": "code",
   "execution_count": 14,
   "id": "8849b66e-8728-40da-8de6-180a24c44a98",
   "metadata": {},
   "outputs": [
    {
     "data": {
      "text/plain": [
       "Education                          114\n",
       "Business/Corporate                 109\n",
       "Travel                             107\n",
       "Streaming Services                 105\n",
       "Sports                             104\n",
       "E-Commerce                         102\n",
       "Games                               98\n",
       "Health and Fitness                  96\n",
       "News                                96\n",
       "Computers and Technology            93\n",
       "Photography                         93\n",
       "Food                                92\n",
       "Law and Government                  84\n",
       "Social Networking and Messaging     83\n",
       "Adult                               16\n",
       "Forums                              16\n",
       "Name: Category, dtype: int64"
      ]
     },
     "execution_count": 14,
     "metadata": {},
     "output_type": "execute_result"
    }
   ],
   "source": [
    "data['Category'].value_counts()"
   ]
  },
  {
   "cell_type": "code",
   "execution_count": 1,
   "id": "4a9c1a05-1f3b-4a73-b439-a1672a13867f",
   "metadata": {},
   "outputs": [],
   "source": [
    "# Fem un diccionari de manera que ens faciliti entendre les categories numèriques\n",
    "dic_category = {'Adult' : 0, 'Business/Corporate' : 1, 'Computers and Technology' : 2, 'E-Commerce' : 3 , 'Education' : 4, 'Food' : 5, 'Forums' : 6, 'Games' : 7,\n",
    "      'Health and Fitness' : 8, 'Law and Government' : 9, 'News' : 10, 'Photography' : 11, 'Social Networking and Messaging' : 12, 'Sports' : 13, 'Streaming Services' : 14,\n",
    "                'Travel' :15}"
   ]
  },
  {
   "cell_type": "markdown",
   "id": "1cd60b15-a152-4fa6-8e0e-bb7987233393",
   "metadata": {},
   "source": [
    "La part X que hem d'utilitzar és el data[\"cleaned_website_text\"].\n",
    "Les prediccions són les categories dels diferents links"
   ]
  },
  {
   "cell_type": "code",
   "execution_count": 22,
   "id": "6e7efad1-2df3-483c-88da-e9d4719239aa",
   "metadata": {},
   "outputs": [],
   "source": [
    "# Ens quedem amb el que ens interessa; netejem la base de dades\n",
    "data.drop([\"Category\"], axis=1, inplace=True)"
   ]
  },
  {
   "cell_type": "markdown",
   "id": "f82e5cab-d017-4708-a15f-688b2f3ac10b",
   "metadata": {},
   "source": [
    "Visualitzem la base de dades amb la qual ara treballarem"
   ]
  },
  {
   "cell_type": "code",
   "execution_count": 23,
   "id": "f401e7de-ba2f-41cf-98dd-f41d949ec007",
   "metadata": {},
   "outputs": [
    {
     "data": {
      "text/html": [
       "<div>\n",
       "<style scoped>\n",
       "    .dataframe tbody tr th:only-of-type {\n",
       "        vertical-align: middle;\n",
       "    }\n",
       "\n",
       "    .dataframe tbody tr th {\n",
       "        vertical-align: top;\n",
       "    }\n",
       "\n",
       "    .dataframe thead th {\n",
       "        text-align: right;\n",
       "    }\n",
       "</style>\n",
       "<table border=\"1\" class=\"dataframe\">\n",
       "  <thead>\n",
       "    <tr style=\"text-align: right;\">\n",
       "      <th></th>\n",
       "      <th>cleaned_website_text</th>\n",
       "      <th>target_category</th>\n",
       "    </tr>\n",
       "  </thead>\n",
       "  <tbody>\n",
       "    <tr>\n",
       "      <th>0</th>\n",
       "      <td>official site good hotel accommodation big sav...</td>\n",
       "      <td>15</td>\n",
       "    </tr>\n",
       "    <tr>\n",
       "      <th>1</th>\n",
       "      <td>expedia hotel book sites like use vacation wor...</td>\n",
       "      <td>15</td>\n",
       "    </tr>\n",
       "    <tr>\n",
       "      <th>2</th>\n",
       "      <td>tripadvisor hotel book sites like previously d...</td>\n",
       "      <td>15</td>\n",
       "    </tr>\n",
       "    <tr>\n",
       "      <th>3</th>\n",
       "      <td>cheap flights search compare flights momondo f...</td>\n",
       "      <td>15</td>\n",
       "    </tr>\n",
       "    <tr>\n",
       "      <th>4</th>\n",
       "      <td>bot create free account create free account si...</td>\n",
       "      <td>15</td>\n",
       "    </tr>\n",
       "    <tr>\n",
       "      <th>...</th>\n",
       "      <td>...</td>\n",
       "      <td>...</td>\n",
       "    </tr>\n",
       "    <tr>\n",
       "      <th>1403</th>\n",
       "      <td>old nude women porn mature granny sex horny ol...</td>\n",
       "      <td>0</td>\n",
       "    </tr>\n",
       "    <tr>\n",
       "      <th>1404</th>\n",
       "      <td>bdsm cams bdsm chat bondage cams free bdsm vid...</td>\n",
       "      <td>0</td>\n",
       "    </tr>\n",
       "    <tr>\n",
       "      <th>1405</th>\n",
       "      <td>porno dvd online european porn dvd cheap adult...</td>\n",
       "      <td>0</td>\n",
       "    </tr>\n",
       "    <tr>\n",
       "      <th>1406</th>\n",
       "      <td>anal dream house anal dream house anal dream h...</td>\n",
       "      <td>0</td>\n",
       "    </tr>\n",
       "    <tr>\n",
       "      <th>1407</th>\n",
       "      <td>world sex news daily sex news adult news eroti...</td>\n",
       "      <td>0</td>\n",
       "    </tr>\n",
       "  </tbody>\n",
       "</table>\n",
       "<p>1408 rows × 2 columns</p>\n",
       "</div>"
      ],
      "text/plain": [
       "                                   cleaned_website_text  target_category\n",
       "0     official site good hotel accommodation big sav...               15\n",
       "1     expedia hotel book sites like use vacation wor...               15\n",
       "2     tripadvisor hotel book sites like previously d...               15\n",
       "3     cheap flights search compare flights momondo f...               15\n",
       "4     bot create free account create free account si...               15\n",
       "...                                                 ...              ...\n",
       "1403  old nude women porn mature granny sex horny ol...                0\n",
       "1404  bdsm cams bdsm chat bondage cams free bdsm vid...                0\n",
       "1405  porno dvd online european porn dvd cheap adult...                0\n",
       "1406  anal dream house anal dream house anal dream h...                0\n",
       "1407  world sex news daily sex news adult news eroti...                0\n",
       "\n",
       "[1408 rows x 2 columns]"
      ]
     },
     "execution_count": 23,
     "metadata": {},
     "output_type": "execute_result"
    }
   ],
   "source": [
    "data"
   ]
  },
  {
   "cell_type": "markdown",
   "id": "233bb970-b2de-463a-a23a-c9b0fbeede2d",
   "metadata": {},
   "source": [
    "### Visualització dels atributs a predir"
   ]
  },
  {
   "cell_type": "code",
   "execution_count": 24,
   "id": "89084043-01fe-4f13-9b1f-d5f8896e2e13",
   "metadata": {},
   "outputs": [
    {
     "data": {
      "text/plain": [
       "Text(0, 0.5, 'Count')"
      ]
     },
     "execution_count": 24,
     "metadata": {},
     "output_type": "execute_result"
    },
    {
     "data": {
      "image/png": "[encoded data removed]",
      "text/plain": [
       "<Figure size 432x288 with 1 Axes>"
      ]
     },
     "metadata": {
      "needs_background": "light"
     },
     "output_type": "display_data"
    }
   ],
   "source": [
    "# historgrama del target_category per a veure com estan organitzats\n",
    "\n",
    "p=sns.histplot(data=data, x=\"target_category\", kde=False, color=\"orange\")\n",
    "\n",
    "plt.suptitle(\"categories count of website's links\",\n",
    "             fontsize = 'x-large', fontweight = 'bold' )\n",
    "p.set_xlabel(\"Categories\")\n",
    "p.set_ylabel(\"Count\")\n",
    "\n",
    "#plt.savefig(\"hist_target_A.png\", dpi = 300, bbox_inches = 'tight')"
   ]
  }
 ],
 "metadata": {
  "kernelspec": {
   "display_name": "Python 3",
   "language": "python",
   "name": "python3"
  },
  "language_info": {
   "codemirror_mode": {
    "name": "ipython",
    "version": 3
   },
   "file_extension": ".py",
   "mimetype": "text/x-python",
   "name": "python",
   "nbconvert_exporter": "python",
   "pygments_lexer": "ipython3",
   "version": "3.8.8"
  }
 },
 "nbformat": 4,
 "nbformat_minor": 5
}
