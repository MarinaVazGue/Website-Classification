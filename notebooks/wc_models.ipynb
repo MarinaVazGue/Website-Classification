{
 "cells": [
  {
   "cell_type": "markdown",
   "id": "ad060501-db48-4bea-a6d3-b1d787381465",
   "metadata": {},
   "source": [
    "# __CAS KAGGLE: Website Classification__"
   ]
  },
  {
   "cell_type": "markdown",
   "id": "66d54dd6-aacb-4e1b-9753-3ad762a48fa8",
   "metadata": {},
   "source": [
    "#### __Models de classificació__"
   ]
  },
  {
   "cell_type": "markdown",
   "id": "5a69ad81-aa13-4319-bb90-4ecceb204bed",
   "metadata": {},
   "source": [
    "###### Marina Vázquez Guerrero"
   ]
  },
  {
   "cell_type": "markdown",
   "id": "e3507123-62a6-4f87-b464-6e9899b627c2",
   "metadata": {},
   "source": [
    "###### NIU: 1563735"
   ]
  },
  {
   "cell_type": "code",
   "execution_count": 1,
   "id": "d78a3a17",
   "metadata": {},
   "outputs": [],
   "source": [
    "# impotem les llibreries i els paquets que necessitem\n",
    "import time\n",
    "import numpy as np\n",
    "import pandas as pd\n",
    "%matplotlib inline\n",
    "import matplotlib.pyplot as plt\n",
    "import seaborn as sns\n",
    "from matplotlib import pyplot as plt\n",
    "from sklearn.metrics import r2_score,accuracy_score\n",
    "from sklearn import linear_model\n",
    "from sklearn.linear_model import LogisticRegression\n",
    "from sklearn.preprocessing import LabelEncoder\n",
    "from sklearn.feature_extraction.text import CountVectorizer\n",
    "from sklearn import svm, tree, datasets, neighbors\n",
    "from sklearn.neighbors import KNeighborsClassifier\n",
    "from sklearn.ensemble import BaggingClassifier, AdaBoostClassifier, RandomForestClassifier\n",
    "from sklearn import metrics\n",
    "from sklearn.cluster import KMeans\n",
    "from sklearn.metrics.cluster import completeness_score\n",
    "from sklearn.model_selection import train_test_split, cross_val_score, GridSearchCV\n",
    "\n",
    "\n",
    "import warnings\n",
    "warnings.filterwarnings(\"ignore\")\n",
    "\n",
    "plt.figure(figsize=(10,10))\n",
    "sns.set(style=\"darkgrid\")\n",
    "%matplotlib inline\n",
    "\n",
    "pd.set_option('display.float_format', lambda x: '%.3f' % x)"
   ]
  },
  {
   "cell_type": "markdown",
   "id": "5d76d19f-adda-4955-84cf-0185ec01cfae",
   "metadata": {},
   "source": [
    "### __Neteja de la base de dades__"
   ]
  },
  {
   "cell_type": "code",
   "execution_count": 2,
   "id": "38377f3f",
   "metadata": {},
   "outputs": [],
   "source": [
    "# llegim la base de dades\n",
    "\n",
    "data = pd.read_csv(\"website_classification.csv\")\n",
    "\n",
    "\n",
    "### Neteja de la base de dades\n",
    "\n",
    "data.drop([\"Unnamed: 0\"], axis=1, inplace=True)\n",
    "data.drop([\"website_url\"], axis=1, inplace=True)\n",
    "\n",
    "le = LabelEncoder()\n",
    "data[\"target_category\"] = le.fit(data[\"Category\"]).transform(data[\"Category\"])\n",
    "\n",
    "data[\"cleaned_website_text\"] = data[\"cleaned_website_text\"].astype(str)\n",
    "cv = CountVectorizer(analyzer = \"word\", stop_words = \"english\")\n",
    "cv.fit(data[\"cleaned_website_text\"])\n",
    "\n",
    "dic_category = {'Adult' : 0, 'Business/Corporate' : 1, 'Computers and Technology' : 2, 'E-Commerce' : 3 , 'Education' : 4, 'Food' : 5, 'Forums' : 6, 'Games' : 7,\n",
    "      'Health and Fitness' : 8, 'Law and Government' : 9, 'News' : 10, 'Photography' : 11, 'Social Networking and Messaging' : 12, 'Sports' : 13, 'Streaming Services' :15}\n",
    "\n",
    "data.drop([\"Category\"], axis=1, inplace=True)"
   ]
  },
  {
   "cell_type": "markdown",
   "id": "0814fef4-f698-42e6-809f-c4a8bf0b241d",
   "metadata": {},
   "source": [
    "### __Models utilitzats en la classificació__"
   ]
  },
  {
   "cell_type": "code",
   "execution_count": 3,
   "id": "8e656d36-2dc9-4e86-923e-f428e1c7d3ea",
   "metadata": {},
   "outputs": [],
   "source": [
    "# Fem una divisió del data per a tenir una part del train i una altra del test\n",
    "X_train,X_test,y_train,y_test = train_test_split(data[\"cleaned_website_text\"], data[\"target_category\"], train_size = 0.6)"
   ]
  },
  {
   "cell_type": "code",
   "execution_count": 4,
   "id": "4426c5ac-5c1f-4561-a904-b566a4ce50ca",
   "metadata": {},
   "outputs": [],
   "source": [
    "# Convert a collection of text documents to a matrix of token counts\n",
    "x_train_cv = cv.transform(X_train)\n",
    "x_test_cv = cv.transform(X_test)\n",
    "\n",
    "x_cv = cv.transform(data[\"cleaned_website_text\"])"
   ]
  },
  {
   "cell_type": "code",
   "execution_count": 5,
   "id": "4fd53acb-4e1f-480d-a47e-ec23b49d9e39",
   "metadata": {},
   "outputs": [],
   "source": [
    "# funcio del fit del regressor logistic\n",
    "def fit_lr(x_t, x_v, y_t, y_v):\n",
    "    logireg = LogisticRegression(C=2.0, fit_intercept=True, penalty='l2', tol=0.001)\n",
    "    logireg.fit(x_t, y_t)\n",
    "    probs = logireg.predict_proba(x_v)\n",
    "    predictions = logireg.predict(x_v)\n",
    "    return accuracy_score(y_v,predictions), probs, y_v\n",
    "\n",
    "# funcio del fit del svm\n",
    "def fit_svm(x_t, x_v, y_t, y_v, k = 'linear', C = 10.0, g = 0.9):\n",
    "    svc = svm.SVC(C=C, kernel=k, gamma=g, probability=True) # creem el regresor svm    \n",
    "    svc.fit(x_t, y_t) \n",
    "    probs = svc.predict_proba(x_v)\n",
    "    predictions = svc.predict(x_v)\n",
    "    return accuracy_score(y_v,predictions), probs, y_v\n",
    "\n",
    "# funcio del decision tree\n",
    "def decision_tree_fit(x_t, x_v, y_t, y_v):\n",
    "    dt = tree.DecisionTreeClassifier()\n",
    "    dt.fit(x_t, y_t)\n",
    "    probs = dt.predict_proba(x_v)\n",
    "    predictions=dt.predict(x_v)\n",
    "    return accuracy_score(y_v, predictions), probs, y_v\n",
    "\n",
    "# funcio del KNN\n",
    "def fit_KNN(x_t, x_v, y_t, y_v, n =7):    \n",
    "    knn = neighbors.KNeighborsClassifier(n_neighbors=n)\n",
    "    knn.fit(x_t,y_t)\n",
    "    probs = knn.predict_proba(x_v)\n",
    "    predictions=knn.predict(x_v)\n",
    "    return accuracy_score(y_v, predictions), probs, y_v"
   ]
  },
  {
   "cell_type": "code",
   "execution_count": 6,
   "id": "416d110d-5e3e-4daa-8312-e177e56f5845",
   "metadata": {},
   "outputs": [],
   "source": [
    "# funcio del random forest\n",
    "def fit_rf(x_t, x_v, y_t, y_v, i = 10):    \n",
    "    clf = RandomForestClassifier(n_estimators=i)\n",
    "    clf.fit(x_t,y_t)\n",
    "    probs = clf.predict_proba(x_v)\n",
    "    predictions = clf.predict(x_v)\n",
    "    return accuracy_score(y_v, predictions), probs, y_v"
   ]
  },
  {
   "cell_type": "code",
   "execution_count": 7,
   "id": "83edf43e-1745-4de8-aa72-e7089393f462",
   "metadata": {},
   "outputs": [],
   "source": [
    "# funcio del KMeans\n",
    "def fit_KMeans(x_t, x_v, y_t, y_v, n = 16):    \n",
    "    kmeans = KMeans(n_clusters= n)\n",
    "    kmeans.fit(x_t,y_t)\n",
    "    predictions=kmeans.predict(x_v)\n",
    "    return completeness_score(y_v, predictions)"
   ]
  },
  {
   "cell_type": "markdown",
   "id": "e839a6ac-aad1-4319-b920-ed264d068aa8",
   "metadata": {},
   "source": [
    "__Regressió Logística__"
   ]
  },
  {
   "cell_type": "code",
   "execution_count": 8,
   "id": "06bb82fd-0230-45a5-836e-938df958bcac",
   "metadata": {},
   "outputs": [
    {
     "name": "stdout",
     "output_type": "stream",
     "text": [
      "acc 0.8386524822695035 temps:  35.09802794456482\n"
     ]
    }
   ],
   "source": [
    "i = time.time()\n",
    "acc_lr, probs_lr, y_v = fit_lr(x_train_cv, x_test_cv, y_train, y_test)\n",
    "f = time.time()\n",
    "print(\"acc\", acc_lr,\"temps: \", f-i)"
   ]
  },
  {
   "cell_type": "markdown",
   "id": "2fff4fb7-93e5-4975-a1fc-23f6128bca08",
   "metadata": {},
   "source": [
    "__SVM__"
   ]
  },
  {
   "cell_type": "code",
   "execution_count": 9,
   "id": "81a2048d-f0c3-4fb7-b722-1f06c8c9386d",
   "metadata": {},
   "outputs": [
    {
     "data": {
      "text/plain": [
       "{'linear': 0.7641843971631206,\n",
       " 'poly': 0.4645390070921986,\n",
       " 'rbf': 0.1099290780141844,\n",
       " 'sigmoid': 0.11879432624113476}"
      ]
     },
     "execution_count": 9,
     "metadata": {},
     "output_type": "execute_result"
    }
   ],
   "source": [
    "kernels = [\"linear\", \"poly\", \"rbf\", \"sigmoid\"]\n",
    "acc_dict = {}\n",
    "\n",
    "for k in kernels:\n",
    "    acc_svm, *_= fit_svm(x_train_cv, x_test_cv, y_train, y_test,k)\n",
    "    acc_dict[k] = acc_svm\n",
    "    \n",
    "acc_dict"
   ]
  },
  {
   "cell_type": "code",
   "execution_count": 10,
   "id": "f7eb339f-f6a5-418d-ab92-a6baf715338a",
   "metadata": {},
   "outputs": [
    {
     "name": "stdout",
     "output_type": "stream",
     "text": [
      "acc 0.7641843971631206 temps:  9.545153379440308\n"
     ]
    }
   ],
   "source": [
    "# veiem que el millor kernel és el lineal\n",
    "i = time.time()\n",
    "acc_svm, probs_svm, y_v = fit_svm(x_train_cv, x_test_cv, y_train, y_test,\"linear\")\n",
    "f = time.time()\n",
    "print(\"acc\", acc_svm,\"temps: \", f-i)"
   ]
  },
  {
   "cell_type": "markdown",
   "id": "172a2229-56ff-408c-a09a-62a51882ffae",
   "metadata": {},
   "source": [
    "__Decision Tree__"
   ]
  },
  {
   "cell_type": "code",
   "execution_count": 11,
   "id": "7ff28412-2539-4869-b9f9-a09f954c8d6c",
   "metadata": {},
   "outputs": [
    {
     "name": "stdout",
     "output_type": "stream",
     "text": [
      "acc 0.6560283687943262 temps:  0.9027225971221924\n"
     ]
    }
   ],
   "source": [
    "i = time.time()\n",
    "acc_dt, probs_dt, y_v = decision_tree_fit(x_train_cv, x_test_cv, y_train, y_test)\n",
    "f = time.time()\n",
    "print(\"acc\", acc_dt,\"temps: \", f-i)"
   ]
  },
  {
   "cell_type": "markdown",
   "id": "14af8a4e-380a-4533-9a9a-1ffb750d562e",
   "metadata": {},
   "source": [
    "__KNN__"
   ]
  },
  {
   "cell_type": "code",
   "execution_count": 12,
   "id": "2053a0d3-1332-4904-9fe1-ebbad93bf254",
   "metadata": {},
   "outputs": [
    {
     "name": "stdout",
     "output_type": "stream",
     "text": [
      "Millor precisió: 0.5673758865248227 amb k = 1\n"
     ]
    },
    {
     "data": {
      "image/png": "[encoded data removed]",
      "text/plain": [
       "<Figure size 432x288 with 1 Axes>"
      ]
     },
     "metadata": {
      "needs_background": "light"
     },
     "output_type": "display_data"
    }
   ],
   "source": [
    "#Per a poder trobar d'una manera fàcil quina podria ser la millor k, anem fent proves \n",
    "\n",
    "acc_lst = []\n",
    "for k in range(1,51):\n",
    "    acc_knn, *_ = fit_KNN(x_train_cv, x_test_cv, y_train, y_test, k)\n",
    "    acc_lst.append(acc_knn)\n",
    "\n",
    "plt.figure()\n",
    "plt.suptitle(\"Búsqueda de la millor K\", fontsize = 'x-large', fontweight = 'bold')\n",
    "plt.plot(range(1,51), acc_lst, 'o--', color='black')\n",
    "plt.xlabel('K')\n",
    "plt.ylabel('Accuracy')\n",
    "\n",
    "k_millor = acc_lst.index(max(acc_lst))\n",
    "print(\"Millor precisió:\", acc_lst[k_millor], \"amb k =\", k_millor+1)"
   ]
  },
  {
   "cell_type": "code",
   "execution_count": 13,
   "id": "03cb3e82-01f3-4077-9f75-764f1ffd8065",
   "metadata": {},
   "outputs": [
    {
     "name": "stdout",
     "output_type": "stream",
     "text": [
      "acc 0.5673758865248227 temps:  0.1879739761352539\n"
     ]
    }
   ],
   "source": [
    "# veiem que la millor k és 1\n",
    "i = time.time()\n",
    "acc_knn, probs_knn, y_v = fit_KNN(x_train_cv, x_test_cv, y_train, y_test, 1)\n",
    "f = time.time()\n",
    "print(\"acc\", acc_knn,\"temps: \", f-i)"
   ]
  },
  {
   "cell_type": "markdown",
   "id": "f74d65d3-fb0b-4e5f-9e3c-574f20280fea",
   "metadata": {},
   "source": [
    "__Baggin__"
   ]
  },
  {
   "cell_type": "code",
   "execution_count": 14,
   "id": "b8151cce-d0e0-4690-ae35-6731e404fa40",
   "metadata": {},
   "outputs": [
    {
     "name": "stdout",
     "output_type": "stream",
     "text": [
      "acc 0.8173758865248227 temps:  398.9837532043457\n"
     ]
    }
   ],
   "source": [
    "# bagging regressió lineal\n",
    "\n",
    "i = time.time()\n",
    "clf = BaggingClassifier(base_estimator=LogisticRegression(C=2.0, fit_intercept=True, penalty='l2', tol=0.001), n_estimators=10, random_state=0).fit(x_train_cv, y_train)\n",
    "f = time.time()\n",
    "\n",
    "print(\"acc\", clf.score(x_test_cv, y_test),\"temps: \", f-i)"
   ]
  },
  {
   "cell_type": "code",
   "execution_count": 15,
   "id": "cea8ed5f-50c4-43be-9b61-b245ab5b7ae2",
   "metadata": {},
   "outputs": [
    {
     "name": "stdout",
     "output_type": "stream",
     "text": [
      "acc 0.4804964539007092 temps:  0.13466763496398926\n"
     ]
    }
   ],
   "source": [
    "# bagging knn\n",
    "\n",
    "i = time.time()\n",
    "clf = BaggingClassifier(base_estimator=KNeighborsClassifier(n_neighbors=7), n_estimators=10, random_state=0).fit(x_train_cv, y_train)\n",
    "f = time.time()\n",
    "\n",
    "print(\"acc\", clf.score(x_test_cv, y_test),\"temps: \", f-i)"
   ]
  },
  {
   "cell_type": "code",
   "execution_count": 16,
   "id": "a7c1d98f-52ee-425a-a88b-46cabe7e9dc4",
   "metadata": {},
   "outputs": [
    {
     "name": "stdout",
     "output_type": "stream",
     "text": [
      "acc 0.7712765957446809 temps:  50.64908266067505\n"
     ]
    }
   ],
   "source": [
    "# bagging svc lineal\n",
    "\n",
    "i = time.time()\n",
    "clf = BaggingClassifier(base_estimator=svm.SVC(C=10.0, kernel=\"linear\", gamma=0.9, probability=True), n_estimators=10, random_state=0).fit(x_train_cv, y_train)\n",
    "f = time.time()\n",
    "\n",
    "print(\"acc\", clf.score(x_test_cv, y_test),\"temps: \", f-i)"
   ]
  },
  {
   "cell_type": "code",
   "execution_count": 7,
   "id": "414c85cc-b86a-42a2-b344-047d7f263e9e",
   "metadata": {},
   "outputs": [],
   "source": [
    "# Random Forest \n",
    "\n",
    "acc_lst = []\n",
    "for t in range(1,300):\n",
    "    acc_rf, *_ = fit_rf(x_train_cv, x_test_cv, y_train, y_test, t)\n",
    "    acc_lst.append(acc_rf)\n"
   ]
  },
  {
   "cell_type": "code",
   "execution_count": 8,
   "id": "60fcfe3a-ee48-464d-99c0-c0af7952a33d",
   "metadata": {},
   "outputs": [
    {
     "name": "stdout",
     "output_type": "stream",
     "text": [
      "Millor precisió: 0.8439716312056738 amb t = 220\n"
     ]
    },
    {
     "data": {
      "image/png": "[encoded data removed]",
      "text/plain": [
       "<Figure size 432x288 with 1 Axes>"
      ]
     },
     "metadata": {
      "needs_background": "light"
     },
     "output_type": "display_data"
    }
   ],
   "source": [
    "plt.figure()\n",
    "plt.suptitle(\"Búsqueda del millor nombre d'arbres\", fontsize = 'x-large', fontweight = 'bold')\n",
    "plt.plot(range(1,300), acc_lst, 'o--', color='black')\n",
    "plt.xlabel('Trees')\n",
    "plt.ylabel('Accuracy')\n",
    "\n",
    "t_millor = acc_lst.index(max(acc_lst))\n",
    "print(\"Millor precisió:\", acc_lst[t_millor], \"amb t =\", t_millor+1)"
   ]
  },
  {
   "cell_type": "code",
   "execution_count": 10,
   "id": "532f474b-bd2f-461d-901a-38d38dcdde42",
   "metadata": {},
   "outputs": [
    {
     "name": "stdout",
     "output_type": "stream",
     "text": [
      "acc 0.824468085106383 temps:  4.002259254455566\n"
     ]
    }
   ],
   "source": [
    "# veiem que la millor t és 220\n",
    "i = time.time()\n",
    "acc_rf, probs_knn, y_v = fit_rf(x_train_cv, x_test_cv, y_train, y_test, t_millor)\n",
    "f = time.time()\n",
    "print(\"acc\", acc_rf,\"temps: \", f-i)"
   ]
  },
  {
   "cell_type": "markdown",
   "id": "9eb0b3f2-333d-48ee-acf8-6fa1fc1bd2fc",
   "metadata": {},
   "source": [
    "__Boosting__"
   ]
  },
  {
   "cell_type": "code",
   "execution_count": 21,
   "id": "385cbeb5-866d-4f7c-bd8c-5027f6f90ec4",
   "metadata": {},
   "outputs": [
    {
     "name": "stdout",
     "output_type": "stream",
     "text": [
      "acc 0.21506019535095025 temps:  435.6606721878052\n"
     ]
    }
   ],
   "source": [
    "# boosting adaptive (adaboost) 500\n",
    "\n",
    "i = time.time()\n",
    "clf = AdaBoostClassifier(n_estimators=500).fit(x_train_cv, y_train)\n",
    "scores = cross_val_score(clf, x_cv, data[\"target_category\"], cv=5)\n",
    "f = time.time()\n",
    "\n",
    "print(\"acc\", scores.mean(),\"temps: \", f-i)"
   ]
  },
  {
   "cell_type": "markdown",
   "id": "120fee1e-49a2-400c-83e5-416c5bdc5d23",
   "metadata": {},
   "source": [
    "__Kmeans__"
   ]
  },
  {
   "cell_type": "code",
   "execution_count": 22,
   "id": "348dd909-aee1-410a-91d0-7ef81f83c7d6",
   "metadata": {},
   "outputs": [
    {
     "name": "stdout",
     "output_type": "stream",
     "text": [
      "Millor precisió: 0.4286189429688102 amb k = 25\n"
     ]
    },
    {
     "data": {
      "image/png": "[encoded data removed]",
      "text/plain": [
       "<Figure size 432x288 with 1 Axes>"
      ]
     },
     "metadata": {
      "needs_background": "light"
     },
     "output_type": "display_data"
    }
   ],
   "source": [
    "#Per a poder trobar d'una manera fàcil quina podria ser la millor k, anem fent proves \n",
    "\n",
    "acc_lst = []\n",
    "for c in range(16,31):\n",
    "    acc_kmeans = fit_KMeans(x_train_cv, x_test_cv, y_train, y_test,c)\n",
    "    acc_lst.append(acc_kmeans)\n",
    "\n",
    "plt.figure()\n",
    "plt.suptitle(\"Búsqueda del millor nombre de clusters\", fontsize = 'x-large', fontweight = 'bold')\n",
    "plt.plot(range(16,31), acc_lst, 'o--', color='black')\n",
    "plt.xlabel('c')\n",
    "plt.ylabel('Accuracy')\n",
    "\n",
    "k_millor = acc_lst.index(max(acc_lst))\n",
    "print(\"Millor precisió:\", acc_lst[k_millor], \"amb k =\", k_millor+16)"
   ]
  },
  {
   "cell_type": "code",
   "execution_count": 23,
   "id": "cadbef3a-a49c-4776-914f-e9dd91ff9b97",
   "metadata": {},
   "outputs": [
    {
     "name": "stdout",
     "output_type": "stream",
     "text": [
      "acc 0.21399144008695145 temps:  8.767739534378052\n"
     ]
    }
   ],
   "source": [
    "# veiem que el millor nombre de clúster és 29 sobre 31\n",
    "i = time.time()\n",
    "acc_kmeans = fit_KMeans(x_train_cv, x_test_cv, y_train, y_test,29)\n",
    "f = time.time()\n",
    "print(\"acc\", acc_kmeans,\"temps: \", f-i)"
   ]
  },
  {
   "cell_type": "markdown",
   "id": "7bdba7a7-2687-4d57-8b30-98570dc81183",
   "metadata": {},
   "source": [
    "### __Búsqueda d'Hiperparàmetres  i Cross Validation dels millors models__"
   ]
  },
  {
   "cell_type": "markdown",
   "id": "9f607e23-72e2-4078-90e0-aa93c05d0cdf",
   "metadata": {},
   "source": [
    "__Regressió Logística__"
   ]
  },
  {
   "cell_type": "code",
   "execution_count": 8,
   "id": "b27c3c85-6c23-47f1-aecc-d294766ef2cb",
   "metadata": {},
   "outputs": [
    {
     "name": "stdout",
     "output_type": "stream",
     "text": [
      "Millor paràmetre trobat: {'C': 20309.17620904739} \n",
      "\n"
     ]
    }
   ],
   "source": [
    "# Busquem els hiperparàmetres per a un kernel lineal del model SVM\n",
    "\n",
    "cs = np.logspace(2, 5, 40) #posibles valores para C\n",
    "tuned_parameters = [{\"C\": cs}]\n",
    "\n",
    "clf = GridSearchCV(LogisticRegression(tol=0.001), tuned_parameters, scoring=\"%s_macro\" % 'precision')\n",
    "clf.fit(x_train_cv, y_train)\n",
    "\n",
    "print(\"Millor paràmetre trobat:\", clf.best_params_, \"\\n\")\n",
    "\n",
    "means = clf.cv_results_[\"mean_test_score\"]\n",
    "best = clf.best_params_"
   ]
  },
  {
   "cell_type": "code",
   "execution_count": 9,
   "id": "0b19805d-369f-42c8-9896-704e888b14d0",
   "metadata": {},
   "outputs": [
    {
     "data": {
      "image/png": "[encoded data removed]",
      "text/plain": [
       "<Figure size 432x288 with 1 Axes>"
      ]
     },
     "metadata": {
      "needs_background": "light"
     },
     "output_type": "display_data"
    }
   ],
   "source": [
    "# graph to visualize the hyperparameter search \n",
    "\n",
    "fig = plt.figure()\n",
    "\n",
    "plt.suptitle(\"Regressio Logistica\", fontsize = 'x-large', fontweight = 'bold')\n",
    "plt.plot(cs, means, \"o--\", label=\"score for precission\", color=\"blue\")\n",
    "plt.xscale(\"log\")\n",
    "plt.axis('tight')\n",
    "plt.xlabel('Value of C')\n",
    "plt.axvline(x=best['C'], color='black', label='best C', ls = \":\")\n",
    "\n",
    "plt.legend()\n",
    "plt.show()"
   ]
  },
  {
   "cell_type": "code",
   "execution_count": null,
   "id": "f6ca0cd7-ab38-4f0e-aa69-2eca863c64f4",
   "metadata": {},
   "outputs": [],
   "source": [
    "# Amb la Regressió Logística\n",
    "clf = LogisticRegression(C=2, fit_intercept=True, penalty='l2', tol=0.001) \n",
    "scores_lr = cross_val_score(clrf, x_cv, data[\"target_category\"], cv=10)\n",
    "scores_lr"
   ]
  },
  {
   "cell_type": "markdown",
   "id": "b2cf3a05-ac44-4e0f-8309-5d0ae1361a87",
   "metadata": {},
   "source": [
    "__SVM__"
   ]
  },
  {
   "cell_type": "code",
   "execution_count": 24,
   "id": "02000885-c9a0-45f2-8dd7-2e11982ca793",
   "metadata": {},
   "outputs": [
    {
     "name": "stdout",
     "output_type": "stream",
     "text": [
      "Millor paràmetre trobat: {'C': 0.00014251026703029977} \n",
      "\n"
     ]
    }
   ],
   "source": [
    "# Busquem els hiperparàmetres per a un kernel lineal del model SVM\n",
    "\n",
    "cs = np.logspace(-6, 1, 40) #posibles valores para C\n",
    "tuned_parameters = [{\"C\": cs}]\n",
    "\n",
    "clf = GridSearchCV(svm.SVC(kernel = 'linear'), tuned_parameters, scoring=\"%s_macro\" % 'precision')\n",
    "clf.fit(x_train_cv, y_train)\n",
    "\n",
    "print(\"Millor paràmetre trobat:\", clf.best_params_, \"\\n\")\n",
    "\n",
    "means = clf.cv_results_[\"mean_test_score\"]\n",
    "best = clf.best_params_"
   ]
  },
  {
   "cell_type": "code",
   "execution_count": 25,
   "id": "3f50d89f-2539-4a91-9baf-d34501ccb9d0",
   "metadata": {},
   "outputs": [
    {
     "data": {
      "image/png": "[encoded data removed]",
      "text/plain": [
       "<Figure size 432x288 with 1 Axes>"
      ]
     },
     "metadata": {
      "needs_background": "light"
     },
     "output_type": "display_data"
    }
   ],
   "source": [
    "# graph to visualize the hyperparameter search \n",
    "\n",
    "fig = plt.figure()\n",
    "\n",
    "plt.suptitle(\"SVM\", fontsize = 'x-large', fontweight = 'bold')\n",
    "plt.plot(cs, means, \"o--\", label=\"score for precission\", color=\"blue\")\n",
    "plt.xscale(\"log\")\n",
    "plt.axis('tight')\n",
    "plt.xlabel('Value of C')\n",
    "plt.axvline(x=best['C'], color='black', label='best C', ls = \":\")\n",
    "\n",
    "plt.legend()\n",
    "plt.show()"
   ]
  },
  {
   "cell_type": "code",
   "execution_count": 27,
   "id": "641d7f01-b979-421d-8e44-89e786a44289",
   "metadata": {},
   "outputs": [
    {
     "data": {
      "text/plain": [
       "array([0.64893617, 0.59574468, 0.58510638, 0.60638298, 0.61702128,\n",
       "       0.60638298, 0.63829787, 0.60638298, 0.58510638, 0.60638298,\n",
       "       0.61702128, 0.61702128, 0.57446809, 0.55913978, 0.49462366])"
      ]
     },
     "execution_count": 27,
     "metadata": {},
     "output_type": "execute_result"
    }
   ],
   "source": [
    "# Amb el SVM\n",
    "clf = svm.SVC(C=0.00014251026703029977, kernel='linear', gamma=0.9, probability=True)\n",
    "scores_svm = cross_val_score(clf, x_cv, data[\"target_category\"], cv=15)\n",
    "scores_svm"
   ]
  },
  {
   "cell_type": "code",
   "execution_count": null,
   "id": "5131e008-90ab-475d-b864-e4a5b2e6b3b6",
   "metadata": {},
   "outputs": [],
   "source": []
  }
 ],
 "metadata": {
  "kernelspec": {
   "display_name": "Python 3",
   "language": "python",
   "name": "python3"
  },
  "language_info": {
   "codemirror_mode": {
    "name": "ipython",
    "version": 3
   },
   "file_extension": ".py",
   "mimetype": "text/x-python",
   "name": "python",
   "nbconvert_exporter": "python",
   "pygments_lexer": "ipython3",
   "version": "3.8.8"
  }
 },
 "nbformat": 4,
 "nbformat_minor": 5
}
